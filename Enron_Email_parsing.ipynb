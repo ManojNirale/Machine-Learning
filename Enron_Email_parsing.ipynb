{
 "cells": [
  {
   "cell_type": "code",
   "execution_count": 1,
   "metadata": {},
   "outputs": [],
   "source": [
    "import pandas as pd\n",
    "import os,sys,email,re\n",
    "import numpy as np\n",
    "import spacy\n",
    "nlp = spacy.load('en_core_web_sm')\n",
    "import codecs"
   ]
  },
  {
   "cell_type": "code",
   "execution_count": 2,
   "metadata": {},
   "outputs": [],
   "source": [
    "email_data = pd.read_csv('Enron_data/email_data_sample_100.csv')"
   ]
  },
  {
   "cell_type": "code",
   "execution_count": 3,
   "metadata": {},
   "outputs": [
    {
     "data": {
      "text/plain": [
       "Index(['Unnamed: 0', 'file', 'message'], dtype='object')"
      ]
     },
     "execution_count": 3,
     "metadata": {},
     "output_type": "execute_result"
    }
   ],
   "source": [
    "email_data.columns"
   ]
  },
  {
   "cell_type": "code",
   "execution_count": 4,
   "metadata": {},
   "outputs": [],
   "source": [
    "def get_text_from_email(msg):\n",
    "    '''To get the content from email objects'''\n",
    "    parts = []\n",
    "    for part in msg.walk():\n",
    "        if part.get_content_type() == 'text/plain':\n",
    "            parts.append( part.get_payload() )\n",
    "    return ''.join(parts)\n",
    "\n",
    "def split_email_addresses(line):\n",
    "    '''To separate multiple email addresses'''\n",
    "    if line:\n",
    "        addrs = line.split(',')\n",
    "        addrs = frozenset(map(lambda x: x.strip(), addrs))\n",
    "    else:\n",
    "        addrs = None\n",
    "    return addrs"
   ]
  },
  {
   "cell_type": "code",
   "execution_count": 5,
   "metadata": {},
   "outputs": [],
   "source": [
    "messages = list(map(email.message_from_string, email_data['message']))\n",
    "email_data.drop('message', axis=1, inplace=True)\n",
    "# Get fields from parsed email objects\n",
    "keys = messages[0].keys()\n",
    "for key in keys:\n",
    "    email_data[key] = [doc[key] for doc in messages]\n",
    "# Parse content from emails\n",
    "email_data['content'] = list(map(get_text_from_email, messages))\n",
    "# Split multiple email addresses\n",
    "email_data['From'] = email_data['From'].map(split_email_addresses)\n",
    "email_data['To'] = email_data['To'].map(split_email_addresses)\n",
    "\n",
    "# Extract the root of 'file' as 'user'\n",
    "email_data['user'] = email_data['file'].map(lambda x:x.split('/')[0])\n",
    "del messages"
   ]
  },
  {
   "cell_type": "code",
   "execution_count": 6,
   "metadata": {},
   "outputs": [],
   "source": [
    "email_data.drop(columns='Unnamed: 0',axis=1,inplace=True)"
   ]
  },
  {
   "cell_type": "code",
   "execution_count": 7,
   "metadata": {},
   "outputs": [
    {
     "data": {
      "text/plain": [
       "Index(['file', 'Message-ID', 'Date', 'From', 'To', 'Subject', 'Mime-Version',\n",
       "       'Content-Type', 'Content-Transfer-Encoding', 'X-From', 'X-To', 'X-cc',\n",
       "       'X-bcc', 'X-Folder', 'X-Origin', 'X-FileName', 'content', 'user'],\n",
       "      dtype='object')"
      ]
     },
     "execution_count": 7,
     "metadata": {},
     "output_type": "execute_result"
    }
   ],
   "source": [
    "email_data.columns"
   ]
  },
  {
   "cell_type": "markdown",
   "metadata": {},
   "source": [
    "#### Removing headers & footers from email body"
   ]
  },
  {
   "cell_type": "code",
   "execution_count": 73,
   "metadata": {},
   "outputs": [],
   "source": [
    "def generate_text(sentences, nlp, outfile, threshold=0.9):\n",
    "    new_email=[]\n",
    "    for sentence in sentences:\n",
    "        if sentence.startswith('EDRM Enron Email Data Set has been produced in EML'):\n",
    "           continue\n",
    "        if _prob_block(sentence, nlp) < threshold:\n",
    "            new_email.append(sentence)\n",
    "    outfile.append(''.join(new_email))\n",
    "\n",
    "                \n",
    "def _prob_block(sentence, nlp):\n",
    "    try:\n",
    "        sentence = str(sentence)\n",
    "        parsed_data = nlp(sentence)\n",
    "        for span in parsed_data.sents:\n",
    "            sent = [parsed_data[i] for i in range(span.start, span.end)]\n",
    "        non_verbs = np.sum([token.pos_ != 'VERB' for token in sent])\n",
    "        total = len(sent)\n",
    "#         print(non_verbs,total)\n",
    "        return float(non_verbs) / total\n",
    "    except:\n",
    "        return 0\n",
    "    \n",
    "    \n",
    "def remove_foot_head(emails):\n",
    "    outfile = []\n",
    "    for text in emails:\n",
    "        text_a = str(text)\n",
    "        text_a = str(text_a).split('\\r\\n')\n",
    "#         print(text_a)\n",
    "        generate_text(text_a,nlp,outfile,.9)\n",
    "    return outfile"
   ]
  },
  {
   "cell_type": "code",
   "execution_count": 74,
   "metadata": {},
   "outputs": [],
   "source": [
    "cleansed_mail = remove_foot_head(email_data['content'].tolist())"
   ]
  },
  {
   "cell_type": "markdown",
   "metadata": {},
   "source": [
    "#### comparing the results"
   ]
  },
  {
   "cell_type": "code",
   "execution_count": 90,
   "metadata": {},
   "outputs": [
    {
     "name": "stdout",
     "output_type": "stream",
     "text": [
      "Please cc the following distribution list with updates:\n",
      "\n",
      "Phillip Allen (pallen@enron.com)\n",
      "Mike Grigsby (mike.grigsby@enron.com)\n",
      "Keith Holst (kholst@enron.com)\n",
      "Monique Sanchez\n",
      "Frank Ermis\n",
      "John Lavorato\n",
      "\n",
      "\n",
      "Thank you for your help\n",
      "\n",
      "Phillip Allen\n",
      "\n"
     ]
    }
   ],
   "source": [
    "print(email_data['content'][6])"
   ]
  },
  {
   "cell_type": "code",
   "execution_count": 89,
   "metadata": {},
   "outputs": [
    {
     "name": "stdout",
     "output_type": "stream",
     "text": [
      "Please cc the following distribution list with updates:Thank you for your help\n"
     ]
    }
   ],
   "source": [
    "print(cleansed_mail[6])"
   ]
  },
  {
   "cell_type": "code",
   "execution_count": null,
   "metadata": {},
   "outputs": [],
   "source": []
  },
  {
   "cell_type": "code",
   "execution_count": null,
   "metadata": {},
   "outputs": [],
   "source": []
  }
 ],
 "metadata": {
  "kernelspec": {
   "display_name": "Python 3",
   "language": "python",
   "name": "python3"
  },
  "language_info": {
   "codemirror_mode": {
    "name": "ipython",
    "version": 3
   },
   "file_extension": ".py",
   "mimetype": "text/x-python",
   "name": "python",
   "nbconvert_exporter": "python",
   "pygments_lexer": "ipython3",
   "version": "3.6.5"
  }
 },
 "nbformat": 4,
 "nbformat_minor": 2
}
